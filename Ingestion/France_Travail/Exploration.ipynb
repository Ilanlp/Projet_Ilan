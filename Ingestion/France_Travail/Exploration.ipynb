{
 "cells": [
  {
   "cell_type": "code",
   "execution_count": 6,
   "id": "de51fcfb-9b95-4cdf-95de-dba6fd7f0678",
   "metadata": {},
   "outputs": [
    {
     "name": "stdout",
     "output_type": "stream",
     "text": [
      "dict_keys(['resultats', 'filtresPossibles'])\n"
     ]
    },
    {
     "data": {
      "text/plain": [
       "150"
      ]
     },
     "execution_count": 6,
     "metadata": {},
     "output_type": "execute_result"
    }
   ],
   "source": [
    "import pandas as pd\n",
    "import json\n",
    "from datetime import datetime\n",
    "\n",
    "# Charger le fichier JSON\n",
    "today = datetime.today().strftime(\"%Y-%m-%d\")\n",
    "file_path = f\"data/france_travail_results_{today}.json\"\n",
    "\n",
    "with open(file_path, encoding='utf-8') as f:\n",
    "    data = json.load(f)\n",
    "\n",
    "# Explorer les premières clés du JSON\n",
    "print(data.keys())  # souvent contient \"resultats\", \"pagination\", etc.\n",
    "\n",
    "# Extraire la liste des offres\n",
    "offres = data.get(\"resultats\", [])\n",
    "\n",
    "# Transformer en DataFrame\n",
    "df = pd.DataFrame(offres)\n",
    "\n",
    "# Aperçu\n",
    "df.shape[0]"
   ]
  },
  {
   "cell_type": "code",
   "execution_count": 2,
   "id": "9e1c5195-c70a-49ea-8916-e183ca933db8",
   "metadata": {},
   "outputs": [
    {
     "data": {
      "text/plain": [
       "0    Data Engineer / Développeur Big Data confirmé H/F\n",
       "1                                 Tech Lead Data (H/F)\n",
       "2                                 Tech Lead Data (H/F)\n",
       "3                    Consultant Data BI Confirmé (H/F)\n",
       "4                    Consultant Data BI Confirmé (H/F)\n",
       "5                Data Engineer en Alternance H/F (H/F)\n",
       "6                                       Data scientist\n",
       "7                                  Data Engineer (H/F)\n",
       "8                            Chef de projet DATA (H/F)\n",
       "9                  Data Steward Quality Manager  (H/F)\n",
       "Name: intitule, dtype: object"
      ]
     },
     "execution_count": 2,
     "metadata": {},
     "output_type": "execute_result"
    }
   ],
   "source": []
  }
 ],
 "metadata": {
  "kernelspec": {
   "display_name": "Python 3 (ipykernel)",
   "language": "python",
   "name": "python3"
  },
  "language_info": {
   "codemirror_mode": {
    "name": "ipython",
    "version": 3
   },
   "file_extension": ".py",
   "mimetype": "text/x-python",
   "name": "python",
   "nbconvert_exporter": "python",
   "pygments_lexer": "ipython3",
   "version": "3.10.12"
  }
 },
 "nbformat": 4,
 "nbformat_minor": 5
}
